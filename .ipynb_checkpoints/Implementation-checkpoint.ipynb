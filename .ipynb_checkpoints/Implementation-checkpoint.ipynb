{
 "cells": [
  {
   "cell_type": "markdown",
   "id": "94f52ef8-337d-4a3b-a4f8-1672c038e898",
   "metadata": {},
   "source": [
    "# **Balanced Risk Set Matching (BRSM) Implementation**\n"
   ]
  },
  {
   "cell_type": "markdown",
   "id": "fd773794-c5bf-443a-9255-64f63a6f082c",
   "metadata": {},
   "source": [
    "### **Authors:**\n",
    "- **Oncines**, Myles Kim Q.\n",
    "- **Pimentel**, Chelsea Rose J.  \n",
    "\n",
    "-----\n"
   ]
  },
  {
   "cell_type": "markdown",
   "id": "026c2af1-34f8-4473-bbb5-0a6fc15e8b6d",
   "metadata": {},
   "source": [
    "## **1. Introduction**"
   ]
  },
  {
   "cell_type": "markdown",
   "id": "a21cfff2-55d0-4cb6-9502-7edbc88d89a8",
   "metadata": {},
   "source": [
    "### **1.1 Objective:**"
   ]
  },
  {
   "cell_type": "markdown",
   "id": "f491e3af-404d-4595-a995-ff48225976cb",
   "metadata": {},
   "source": [
    "In observational studies, comparing two groups—one receiving treatment and one not—requires ensuring that they are similar in key aspects. This allows researchers to determine if the treatment is truly effective or if observed differences are due to confounding variables.\n"
   ]
  },
  {
   "cell_type": "markdown",
   "id": "61cc3435-e93d-44d3-bf58-ce6ff97a07d8",
   "metadata": {},
   "source": [
    "**Balanced Risk Set Matching (BRSM)** is a methodology designed to address this issue. Instead of randomly selecting individuals from both groups, BRSM carefully matches patients who are as similar as possible, except for whether they received the treatment. This ensures that both groups share the same distribution of key characteristics, improving the validity of treatment effect estimates.\n"
   ]
  },
  {
   "cell_type": "markdown",
   "id": "799aa27a-6c60-4c46-a222-888f8b3c5631",
   "metadata": {},
   "source": [
    "### **1.2 How BRSM Works**"
   ]
  },
  {
   "cell_type": "markdown",
   "id": "c328dd34-b4d4-4ecb-95fb-61570c3f9921",
   "metadata": {},
   "source": [
    "- **Identify Similar Patients:** When a patient receives treatment, another patient with similar symptoms who has not undergone treatment is selected for comparison.\n",
    "\n",
    "- **Ensure Balanced Groups:** The matching process ensures both groups have a well-distributed mix of symptoms to reduce selection bias.\n",
    "\n",
    "- **Track Changes Over Time:** The progression of symptoms is monitored post-treatment to analyze the effects.\n",
    "\n",
    "- **Use Integer Programming:** A mathematical optimization approach is applied to ensure unbiased and optimal matching."
   ]
  },
  {
   "cell_type": "markdown",
   "id": "7dcf3759-a99d-4b41-8406-24bd2a6b1124",
   "metadata": {},
   "source": [
    "## **2. Data Setup**"
   ]
  },
  {
   "cell_type": "markdown",
   "id": "682c0346-4cd2-45ba-bff8-3e8cf7ce01dc",
   "metadata": {},
   "source": [
    "### **2.1 Required Libraries and Packages**"
   ]
  },
  {
   "cell_type": "code",
   "execution_count": null,
   "id": "92f770fc-ea1a-4c65-8ad5-d60dd19b2846",
   "metadata": {},
   "outputs": [],
   "source": [
    "# Required Packages\n",
    "!pip install numpy pandas scipy matplotlib seaborn\n",
    "\n",
    "# Required Libraries\n",
    "import numpy as np\n",
    "import pandas as pd\n",
    "import matplotlib.pyplot as plt\n",
    "import seaborn as sns\n",
    "import scipy.linalg\n",
    "from scipy.spatial.distance import cdist\n",
    "from scipy.stats import wilcoxon\n",
    "from collections import defaultdict\n",
    "from tabulate import tabulate"
   ]
  },
  {
   "cell_type": "markdown",
   "id": "be7ab4f8-3d93-4ae5-b961-59de01d17982",
   "metadata": {},
   "source": [
    "### **2.2 Global Variables**"
   ]
  }
 ],
 "metadata": {
  "kernelspec": {
   "display_name": "Python 3 (ipykernel)",
   "language": "python",
   "name": "python3"
  },
  "language_info": {
   "codemirror_mode": {
    "name": "ipython",
    "version": 3
   },
   "file_extension": ".py",
   "mimetype": "text/x-python",
   "name": "python",
   "nbconvert_exporter": "python",
   "pygments_lexer": "ipython3",
   "version": "3.12.3"
  }
 },
 "nbformat": 4,
 "nbformat_minor": 5
}
